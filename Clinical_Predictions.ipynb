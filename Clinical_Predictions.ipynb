{
  "nbformat": 4,
  "nbformat_minor": 0,
  "metadata": {
    "colab": {
      "provenance": [],
      "gpuType": "T4"
    },
    "kernelspec": {
      "name": "python3",
      "display_name": "Python 3"
    },
    "language_info": {
      "name": "python"
    },
    "accelerator": "GPU"
  },
  "cells": [
    {
      "cell_type": "code",
      "source": [
        "import pandas as pd\n",
        "import numpy as np\n",
        "import re\n",
        "from sklearn.model_selection import train_test_split\n",
        "from sklearn.feature_extraction.text import TfidfVectorizer\n",
        "from sklearn.linear_model import LogisticRegression\n",
        "from sklearn.metrics import classification_report, hamming_loss\n",
        "from sklearn.preprocessing import MultiLabelBinarizer\n",
        "from sklearn.multiclass import OneVsRestClassifier\n",
        "from sklearn.preprocessing import LabelEncoder\n",
        "from sklearn.model_selection import StratifiedKFold\n",
        "from sklearn.naive_bayes import MultinomialNB\n",
        "from sklearn.multiclass import OneVsRestClassifier\n",
        "from sklearn.ensemble import RandomForestClassifier\n",
        "from sklearn.metrics import accuracy_score"
      ],
      "metadata": {
        "id": "l03Yqot09-Gr"
      },
      "execution_count": null,
      "outputs": []
    },
    {
      "cell_type": "markdown",
      "source": [
        "# Loading and Pre-processing the Data"
      ],
      "metadata": {
        "id": "QF-laCSx-BOU"
      }
    },
    {
      "cell_type": "code",
      "source": [
        "# Loading dataset\n",
        "df = pd.read_csv('/content/TRAIN DATASET (1).csv')\n",
        "\n",
        "\n",
        "# 1. Data Preprocessing\n",
        "def clean_text(text):\n",
        "    if isinstance(text, str):\n",
        "        # Removing BOM if present\n",
        "        text = text.lstrip('\\ufeff')\n",
        "\n",
        "        # Fixing encoding issues by ignoring problematic characters\n",
        "        text = text.encode('latin1', errors='ignore').decode('utf-8', errors='ignore')\n",
        "\n",
        "        # Removing special characters (non-alphanumeric characters) except for Spanish letters\n",
        "        text = re.sub(r'[^a-zA-ZáéíóúÁÉÍÓÚñÑ0-9\\s]', '', text)\n",
        "\n",
        "        # Converting to lowercase and strip whitespace\n",
        "        text = text.lower().strip()\n",
        "    return text\n",
        "\n",
        "# Applying the cleaning function to the DataFrame\n",
        "df['text'] = df['text'].apply(clean_text)\n",
        "\n",
        "df.head()"
      ],
      "metadata": {
        "colab": {
          "base_uri": "https://localhost:8080/",
          "height": 206
        },
        "id": "Haz6kV5ulNdy",
        "outputId": "63163346-a2da-42a2-f4a6-416909af62a2"
      },
      "execution_count": 5,
      "outputs": [
        {
          "output_type": "execute_result",
          "data": {
            "text/plain": [
              "        id                                               text     labels\n",
              "0  train_0  presentamos el caso de un paciente de 44 aos c...  [0 0 0 0]\n",
              "1  train_1  se describe el caso clnico de un escolar del s...  [0 0 1 0]\n",
              "2  train_2  un hombre de 36 aos lleg al servicio de urgenc...  [0 0 0 0]\n",
              "3  train_3  mujer de 21 aos natural de la india residente ...  [0 0 0 0]\n",
              "4  train_4  presentamos el caso de una paciente mujer de 1...  [0 0 0 0]"
            ],
            "text/html": [
              "\n",
              "  <div id=\"df-209fb8cb-ba9c-4757-afe4-94510898a172\" class=\"colab-df-container\">\n",
              "    <div>\n",
              "<style scoped>\n",
              "    .dataframe tbody tr th:only-of-type {\n",
              "        vertical-align: middle;\n",
              "    }\n",
              "\n",
              "    .dataframe tbody tr th {\n",
              "        vertical-align: top;\n",
              "    }\n",
              "\n",
              "    .dataframe thead th {\n",
              "        text-align: right;\n",
              "    }\n",
              "</style>\n",
              "<table border=\"1\" class=\"dataframe\">\n",
              "  <thead>\n",
              "    <tr style=\"text-align: right;\">\n",
              "      <th></th>\n",
              "      <th>id</th>\n",
              "      <th>text</th>\n",
              "      <th>labels</th>\n",
              "    </tr>\n",
              "  </thead>\n",
              "  <tbody>\n",
              "    <tr>\n",
              "      <th>0</th>\n",
              "      <td>train_0</td>\n",
              "      <td>presentamos el caso de un paciente de 44 aos c...</td>\n",
              "      <td>[0 0 0 0]</td>\n",
              "    </tr>\n",
              "    <tr>\n",
              "      <th>1</th>\n",
              "      <td>train_1</td>\n",
              "      <td>se describe el caso clnico de un escolar del s...</td>\n",
              "      <td>[0 0 1 0]</td>\n",
              "    </tr>\n",
              "    <tr>\n",
              "      <th>2</th>\n",
              "      <td>train_2</td>\n",
              "      <td>un hombre de 36 aos lleg al servicio de urgenc...</td>\n",
              "      <td>[0 0 0 0]</td>\n",
              "    </tr>\n",
              "    <tr>\n",
              "      <th>3</th>\n",
              "      <td>train_3</td>\n",
              "      <td>mujer de 21 aos natural de la india residente ...</td>\n",
              "      <td>[0 0 0 0]</td>\n",
              "    </tr>\n",
              "    <tr>\n",
              "      <th>4</th>\n",
              "      <td>train_4</td>\n",
              "      <td>presentamos el caso de una paciente mujer de 1...</td>\n",
              "      <td>[0 0 0 0]</td>\n",
              "    </tr>\n",
              "  </tbody>\n",
              "</table>\n",
              "</div>\n",
              "    <div class=\"colab-df-buttons\">\n",
              "\n",
              "  <div class=\"colab-df-container\">\n",
              "    <button class=\"colab-df-convert\" onclick=\"convertToInteractive('df-209fb8cb-ba9c-4757-afe4-94510898a172')\"\n",
              "            title=\"Convert this dataframe to an interactive table.\"\n",
              "            style=\"display:none;\">\n",
              "\n",
              "  <svg xmlns=\"http://www.w3.org/2000/svg\" height=\"24px\" viewBox=\"0 -960 960 960\">\n",
              "    <path d=\"M120-120v-720h720v720H120Zm60-500h600v-160H180v160Zm220 220h160v-160H400v160Zm0 220h160v-160H400v160ZM180-400h160v-160H180v160Zm440 0h160v-160H620v160ZM180-180h160v-160H180v160Zm440 0h160v-160H620v160Z\"/>\n",
              "  </svg>\n",
              "    </button>\n",
              "\n",
              "  <style>\n",
              "    .colab-df-container {\n",
              "      display:flex;\n",
              "      gap: 12px;\n",
              "    }\n",
              "\n",
              "    .colab-df-convert {\n",
              "      background-color: #E8F0FE;\n",
              "      border: none;\n",
              "      border-radius: 50%;\n",
              "      cursor: pointer;\n",
              "      display: none;\n",
              "      fill: #1967D2;\n",
              "      height: 32px;\n",
              "      padding: 0 0 0 0;\n",
              "      width: 32px;\n",
              "    }\n",
              "\n",
              "    .colab-df-convert:hover {\n",
              "      background-color: #E2EBFA;\n",
              "      box-shadow: 0px 1px 2px rgba(60, 64, 67, 0.3), 0px 1px 3px 1px rgba(60, 64, 67, 0.15);\n",
              "      fill: #174EA6;\n",
              "    }\n",
              "\n",
              "    .colab-df-buttons div {\n",
              "      margin-bottom: 4px;\n",
              "    }\n",
              "\n",
              "    [theme=dark] .colab-df-convert {\n",
              "      background-color: #3B4455;\n",
              "      fill: #D2E3FC;\n",
              "    }\n",
              "\n",
              "    [theme=dark] .colab-df-convert:hover {\n",
              "      background-color: #434B5C;\n",
              "      box-shadow: 0px 1px 3px 1px rgba(0, 0, 0, 0.15);\n",
              "      filter: drop-shadow(0px 1px 2px rgba(0, 0, 0, 0.3));\n",
              "      fill: #FFFFFF;\n",
              "    }\n",
              "  </style>\n",
              "\n",
              "    <script>\n",
              "      const buttonEl =\n",
              "        document.querySelector('#df-209fb8cb-ba9c-4757-afe4-94510898a172 button.colab-df-convert');\n",
              "      buttonEl.style.display =\n",
              "        google.colab.kernel.accessAllowed ? 'block' : 'none';\n",
              "\n",
              "      async function convertToInteractive(key) {\n",
              "        const element = document.querySelector('#df-209fb8cb-ba9c-4757-afe4-94510898a172');\n",
              "        const dataTable =\n",
              "          await google.colab.kernel.invokeFunction('convertToInteractive',\n",
              "                                                    [key], {});\n",
              "        if (!dataTable) return;\n",
              "\n",
              "        const docLinkHtml = 'Like what you see? Visit the ' +\n",
              "          '<a target=\"_blank\" href=https://colab.research.google.com/notebooks/data_table.ipynb>data table notebook</a>'\n",
              "          + ' to learn more about interactive tables.';\n",
              "        element.innerHTML = '';\n",
              "        dataTable['output_type'] = 'display_data';\n",
              "        await google.colab.output.renderOutput(dataTable, element);\n",
              "        const docLink = document.createElement('div');\n",
              "        docLink.innerHTML = docLinkHtml;\n",
              "        element.appendChild(docLink);\n",
              "      }\n",
              "    </script>\n",
              "  </div>\n",
              "\n",
              "\n",
              "<div id=\"df-3dd30a2f-984a-415a-9f1a-c6e40685f306\">\n",
              "  <button class=\"colab-df-quickchart\" onclick=\"quickchart('df-3dd30a2f-984a-415a-9f1a-c6e40685f306')\"\n",
              "            title=\"Suggest charts\"\n",
              "            style=\"display:none;\">\n",
              "\n",
              "<svg xmlns=\"http://www.w3.org/2000/svg\" height=\"24px\"viewBox=\"0 0 24 24\"\n",
              "     width=\"24px\">\n",
              "    <g>\n",
              "        <path d=\"M19 3H5c-1.1 0-2 .9-2 2v14c0 1.1.9 2 2 2h14c1.1 0 2-.9 2-2V5c0-1.1-.9-2-2-2zM9 17H7v-7h2v7zm4 0h-2V7h2v10zm4 0h-2v-4h2v4z\"/>\n",
              "    </g>\n",
              "</svg>\n",
              "  </button>\n",
              "\n",
              "<style>\n",
              "  .colab-df-quickchart {\n",
              "      --bg-color: #E8F0FE;\n",
              "      --fill-color: #1967D2;\n",
              "      --hover-bg-color: #E2EBFA;\n",
              "      --hover-fill-color: #174EA6;\n",
              "      --disabled-fill-color: #AAA;\n",
              "      --disabled-bg-color: #DDD;\n",
              "  }\n",
              "\n",
              "  [theme=dark] .colab-df-quickchart {\n",
              "      --bg-color: #3B4455;\n",
              "      --fill-color: #D2E3FC;\n",
              "      --hover-bg-color: #434B5C;\n",
              "      --hover-fill-color: #FFFFFF;\n",
              "      --disabled-bg-color: #3B4455;\n",
              "      --disabled-fill-color: #666;\n",
              "  }\n",
              "\n",
              "  .colab-df-quickchart {\n",
              "    background-color: var(--bg-color);\n",
              "    border: none;\n",
              "    border-radius: 50%;\n",
              "    cursor: pointer;\n",
              "    display: none;\n",
              "    fill: var(--fill-color);\n",
              "    height: 32px;\n",
              "    padding: 0;\n",
              "    width: 32px;\n",
              "  }\n",
              "\n",
              "  .colab-df-quickchart:hover {\n",
              "    background-color: var(--hover-bg-color);\n",
              "    box-shadow: 0 1px 2px rgba(60, 64, 67, 0.3), 0 1px 3px 1px rgba(60, 64, 67, 0.15);\n",
              "    fill: var(--button-hover-fill-color);\n",
              "  }\n",
              "\n",
              "  .colab-df-quickchart-complete:disabled,\n",
              "  .colab-df-quickchart-complete:disabled:hover {\n",
              "    background-color: var(--disabled-bg-color);\n",
              "    fill: var(--disabled-fill-color);\n",
              "    box-shadow: none;\n",
              "  }\n",
              "\n",
              "  .colab-df-spinner {\n",
              "    border: 2px solid var(--fill-color);\n",
              "    border-color: transparent;\n",
              "    border-bottom-color: var(--fill-color);\n",
              "    animation:\n",
              "      spin 1s steps(1) infinite;\n",
              "  }\n",
              "\n",
              "  @keyframes spin {\n",
              "    0% {\n",
              "      border-color: transparent;\n",
              "      border-bottom-color: var(--fill-color);\n",
              "      border-left-color: var(--fill-color);\n",
              "    }\n",
              "    20% {\n",
              "      border-color: transparent;\n",
              "      border-left-color: var(--fill-color);\n",
              "      border-top-color: var(--fill-color);\n",
              "    }\n",
              "    30% {\n",
              "      border-color: transparent;\n",
              "      border-left-color: var(--fill-color);\n",
              "      border-top-color: var(--fill-color);\n",
              "      border-right-color: var(--fill-color);\n",
              "    }\n",
              "    40% {\n",
              "      border-color: transparent;\n",
              "      border-right-color: var(--fill-color);\n",
              "      border-top-color: var(--fill-color);\n",
              "    }\n",
              "    60% {\n",
              "      border-color: transparent;\n",
              "      border-right-color: var(--fill-color);\n",
              "    }\n",
              "    80% {\n",
              "      border-color: transparent;\n",
              "      border-right-color: var(--fill-color);\n",
              "      border-bottom-color: var(--fill-color);\n",
              "    }\n",
              "    90% {\n",
              "      border-color: transparent;\n",
              "      border-bottom-color: var(--fill-color);\n",
              "    }\n",
              "  }\n",
              "</style>\n",
              "\n",
              "  <script>\n",
              "    async function quickchart(key) {\n",
              "      const quickchartButtonEl =\n",
              "        document.querySelector('#' + key + ' button');\n",
              "      quickchartButtonEl.disabled = true;  // To prevent multiple clicks.\n",
              "      quickchartButtonEl.classList.add('colab-df-spinner');\n",
              "      try {\n",
              "        const charts = await google.colab.kernel.invokeFunction(\n",
              "            'suggestCharts', [key], {});\n",
              "      } catch (error) {\n",
              "        console.error('Error during call to suggestCharts:', error);\n",
              "      }\n",
              "      quickchartButtonEl.classList.remove('colab-df-spinner');\n",
              "      quickchartButtonEl.classList.add('colab-df-quickchart-complete');\n",
              "    }\n",
              "    (() => {\n",
              "      let quickchartButtonEl =\n",
              "        document.querySelector('#df-3dd30a2f-984a-415a-9f1a-c6e40685f306 button');\n",
              "      quickchartButtonEl.style.display =\n",
              "        google.colab.kernel.accessAllowed ? 'block' : 'none';\n",
              "    })();\n",
              "  </script>\n",
              "</div>\n",
              "\n",
              "    </div>\n",
              "  </div>\n"
            ],
            "application/vnd.google.colaboratory.intrinsic+json": {
              "type": "dataframe",
              "variable_name": "df",
              "summary": "{\n  \"name\": \"df\",\n  \"rows\": 502,\n  \"fields\": [\n    {\n      \"column\": \"id\",\n      \"properties\": {\n        \"dtype\": \"string\",\n        \"num_unique_values\": 502,\n        \"samples\": [\n          \"train_268\",\n          \"train_73\",\n          \"train_289\"\n        ],\n        \"semantic_type\": \"\",\n        \"description\": \"\"\n      }\n    },\n    {\n      \"column\": \"text\",\n      \"properties\": {\n        \"dtype\": \"string\",\n        \"num_unique_values\": 502,\n        \"samples\": [\n          \"antecedentes personales\\r\\nvarn de 56 aos no alergias medicamentosas conocidas sin antecedentes cardiolgicos conocidos enfermedad de behet aneurismas pulmonares en el pulmn derecho intervencin quirrgica en 1995 hepatitis b crnica tratamiento en domicilio aas 300 mg peginterfern alfa 2a entecavir\\r\\n\\r\\nenfermedad actual\\r\\nacude por astenia generalizada desde hace unos 15 das con dolor torcico en relacin con los esfuerzos y que cede inmediatamente al detenerse no ortopnea no disnea paroxstica nocturna no presncope no fiebre o sensacin distrmica en los das previos\\r\\n\\r\\nexploracin fsica\\r\\npa 12379 mmhg fc 41 lpm ta 352c consciente orientado colaborador buen estado general eupneico al aire ambiente cabeza y cuelo no ivy a 45o auscultacin cardiaca rtmica sin soplos auscultacin pulmonar murmullo vesicular conservado sin ruidos sobreaadidos abdomen blando depresible no doloroso no organomegalias extremidades no edemas no datos de trombosis venosa profunda\\r\\n\\r\\npruebas complementarias\\r\\necg bloqueo av de alto grado con conduccin 21 qrs 130 ms eje del qrs a 60o bloqueo bifascicular brdhh  hai con arritmia sinusal ventriculofsica radiografa de trax sin datos de patologa pleuropulmonar aguda prdida de volumen pulmonar derecho y material de densidad metlica en porcin inferior del hemitrax ipsilateral en relacin con antecedente quirrgico silueta cardiopericrdica de tamao normal calcificaciones anulares que se proyectan sobre la silueta cardiaca ya presentes en estudio previo analtica leucocitos 2890ul n 502  l 349  hb 129 gdl plaquetas 93000ul inr 112 tppa ratio 112 glucosa 83 mgdl urea 65 mgdl creat 074 mgdl na 143 k 45 troponina i  0017 ngdl\\r\\necocardiograma ventrculo izquierdo no dilatado con fraccin de eyeccin preservada vlvula artica trivalva con buena apertura e insuficiencia ligera central aurcula izquierda no dilatada vlvula mitral con buena apertura insuficiencia mitral diastlica raz artica no dilatada cavidades derechas no dilatadas buena contractilidad de ventrculo derecho insuficiencia tricuspdea ligera no derrame pericrdico\\r\\ncoronariografa tronco coronario izquierdo sin lesiones descendente anterior presenta dilatacin aneurismtica calcificada de la pared a nivel proximal con enlentecimiento de flujo distal circunfleja presenta a nivel proximal dilatacin aneurismtica de gran tamao calcificada con trombosis parcial de la luz que condiciona enlentecimiento de flujo a nivel distal coronaria derecha sin lesiones\\r\\naortografa no presenta dilatacin aneurismtica tc coronario aneurismas coronarios saculares en circunfleja parcialmente trombosados y con cuello de 34 mm y en descendente anterior no trombosado y asentado sobre un segmento de arteria displsica de 15 mm de longitud\\r\\n\\r\\n\\r\\nevolucin\\r\\npaciente de 56 aos que ingresa en la unidad coronaria por un bloqueo av 21 con qrs ancho y sntomas compatibles con angina de esfuerzo de reciente comienzo se lleva a cabo coronariografa que evidencia arteria descendente anterior con dilatacin aneurismtica calcificada de la pared a nivel proximal con enlentecimiento de flujo distal circunfleja proximal con dilatacin aneurismtica de gran tamao calcificada con trombosis parcial de la luz que condiciona enlentecimiento de flujo a nivel distal se comenta el caso en sesin mdico quirrgica y se decide ciruga coronaria previo implante de marcapasos definitivo se comenta en sesin la conveniencia de suspender temporalmente el tratamiento con peginterfern alfa de cara a que mejoren en lo posible las cifras de leucocitos y el recuento plaquetario de cara a la intervencin a este respecto es valorado por hepatologa y recomiendan suspender el peginterfern de cara a la ciruga y reanudarlo lo antes posible tras la intervencin el da 21 de octubre de 2016 se realiza eef evidencindose que se trata de un bloqueo av infrahisiano y posteriormente se implanta un marcapasos definitivo bicameral sin complicaciones los controles posimplante de marcapasos muestran adecuado funcionamiento del dispositivo encontrndose estable cardiovascular y asintomtico sin datos de ic se autoriza el alta hospitalaria para ingreso la prxima semana de cara a intervencin quirrgica cardiaca\\r\\nel da 4 de noviembre de 2016 se realiza de forma programada ciruga de revascularizacin coronaria con doble arteria mamaria en y bajo cec se realizan bypass de arteria mamaria izquierda a descendente anterior y de arteria mamaria derecha a obtusa marginal asimismo se realiza ligadura distal y proximal de aneurisma en descendente anterior intervencin sin complicaciones posoperatorio en reanimacin sin incidencias\\r\\n\\r\\ndiagnstico\\r\\nenfermedad de behet bloqueo aurculoventricular 21 infrahisiano implante de marcapasos definitivo bicameral cardiopata isqumica por aneurismas coronarios revascularizacin coronaria con doble arteria mamaria a descendente anterior y a obtusa marginal ligadura de aneurisma de descendente anterior\",\n          \"anamnesis\\r\\nmujer de 26 aos embarazada de 11 semanas que consulta en el servicio de urgencias de dermatologa por presentar desde hace 4 das lesiones puntiformes dolorosas de aparicin sbita en la punta de los dedos\\r\\nla paciente refiere que las lesiones se iniciaron en los dedos de las manos extendindose posteriormente a los dedos de los pies asocia adems molestias articulares das antes de la aparicin de las lesiones present cuadro febril que remiti en 24 horas con paracetamol tras el desarrollo del cuadro cutneo no ha vuelto a presentar fiebre no presenta ninguna otra sintomatologa asociada como antecedentes personales de inters destacaba nicamente urticaria a frigore no tiene antecedentes de fotosensibilidad\\r\\n\\r\\nexploracin fsica\\r\\nppulas puntiformes eritematosas algunas con zonas purpricas no palpables que no desaparecen a la digitopresin bien delimitadas no infiltradas localizadas en pulpejos distales de 20 dedos uas sin alteraciones manos y pies normocoloreados y normoperfundidos\\r\\n\\r\\nexploraciones complementarias\\r\\nen un primer momento el caso impresionaba de vasculitis por lo que se extrajo analtica en sangre perifrica sin alteraciones excepto elevacin de velocidad de sedimentacin globular 22 mm valores de referencia 715 mm los marcadores de inmunidad ana y crioaglutininas resultaron negativos la serologa de vhb indicaba nicamente vacunacin as mismo se realiz biopsia cutnea con un punch de 3 mm en la que se observaron como nicos hallazgos hiperqueratosis paraqueratosis e infiltrado inflamatorio crnico perivascular en dermis superficial\\r\\nen base a estos resultados se descart el diagnstico de vasculitis por lo que ante la sospecha diagnstica de exantema en guante y calcetn se realiz serologa para virus de ebstein barr parvovirus b19 y enterovirus humano la serolog para parvovirus b19 fue igm positiva en dos ocasiones separadas una semana entre s\\r\\n\\r\\ndiagnstico\\r\\nexantema en guante y calcetn por parvovirus b19\\r\\n\\r\\ntratamiento\\r\\nsintomtico paracetamol 1 g cada 8 horas desde el equipo de ginecologa se paut tratamiento con aas 100 mg cada 24 horas\\r\\n\\r\\nevolucin\\r\\nen un primer momento las lesiones eran compatibles con el desarrollo de una vasculitis los marcadores analticos negativos para autoinmunidad y crioaglutininas orientaron el diagnstico hacia un exantema infeccioso erupcin papulopurprica en guante y calcetn\\r\\nante la sospecha de un cuadro infeccioso de estas caractersticas se solicitaron serologas para veb enterovirus y parvovirus b19 siendo la igm positiva para este ltimo en dos ocasiones\\r\\nal tratarse de una paciente embarazada nos pusimos en contacto con el servicio de ginecologa inicindose el seguimiento gineobsttrico para pacientes de alto riesgo\\r\\nen las sucesivas revisiones ginecolgicas la paciente no haba desarrollado anemia ni otras manifestaciones clnicas de la infeccin aguda por parvovirus tampoco se objetivaron signos de anemia fetal ni las complicaciones derivadas de sta\",\n          \"antecedentes personales varn de 36 aos  buena salud habitual no alergias medicamentosas no tratamiento habitual fumador de 10 paquetesao bebedor leve casado y comercial de material electrnico\\r\\n\\r\\nanamnesis en noviembre de 2014 comienza con fiebre de 38o no tos no expectoracin por lo que acude al s de urgencias se le practica rx de trax que pone de manifiesto masa en lbulo superior derecho lsd de pulmn\\r\\n\\r\\nexploracin fsica\\r\\necog 0 anodina\\r\\n\\r\\npruebas complementarias\\r\\nanaltica general 151216 cea 231 ca 199 199 hiv negativo tc tomografia computarizada traxabdomenplvis 151214 masa en lsd de 49 mm adenopatas mediastnicas paratraqueales derechas hiliar ipsilateral y subcarinal 10mm quistes simples hepticos segmentos v vi vii broncoscopia 161214 normal broncoaspirado y cepillado negativo bag de masa de lsd guiada por tc 221214 adenocarcinoma de pulmn egfr nativo alk traslocado por ihq y fish pet tc tomografia por emisin de positrones 291214 masa en lsd de 34x46x33 cm con suv 1632 adenopata mediastnica derecha alta 8 mm suv 515 adenopata prevascular 7 mm suv 305\\r\\nadenopata paratraqueal derecha alta 8 mm suv 486 adenopata paratraqueal derecha baja 10 mm suv 801 adenopata hilar derecha suv 534 en segmentos ivv hepticos imgenes hiperactivas con suv 306 y 309\\r\\necografia abdominal 020115 quistes simples hepticos en segmentos 5 y 6\\r\\nresonancia magnetica heptica 070115 quistes hepticos segmentos v vi vii viii\\r\\necobroncoscopia 120115 adenopata menor de 1 cm en niveles 2r con puncin negativa adenopata 4r positiva para adenocarcinoma\\r\\ntc craneal 290115 normal\\r\\n\\r\\ndiagnstico\\r\\nel 260115 es remitido a nuestro serviciocon diagnstico de adenocarcinoma de pulmn lsd t2an2hiliares y mediastnicas ipsilaterales m0 estadio iiia egfr nativo alk traslocado\\r\\n\\r\\ntratamiento\\r\\niniciamos tratamiento con crizotinib 250 mg cada 12 horas de forma contnua\\r\\n\\r\\nevolucin\\r\\ntras 1 mes de tratamiento se realiza tc de reevaluacin 040315 reduccin de la masa de lsd en rango de respuesta parcial respuesta completa de adenopatas paratraqueales derechas y respuesta parcial de adenopata hiliar derecha y subcarinal presenta como efectos secundarios alteraciones visuales en forma de aura de predominio vespertino tras 25 meses de tto con crizotinib se realiza pet tc 130415 se objetiva respuesta completa metablica de adenopatas mediastnicas e hiliares con respuesta parcial del tumor ante esta respuesta se remite al paciente a s de ciruga torcica de salamanca para valoracin quirrgica previa realizacin de mediastinoscopia el 280415 se realiza mediastinoscopia de niveles 4l 4r y 7 negativa el 190515 se realiza lobectomia de lsd y linfadenectomia de 4r y 7 por videotoracoscopia ypt1a 15 mm pn0m0 se administra radioterapia complemetaria inicio 250815 fin 300915 dt 54 gy en 27 fracciones efectos secundarios hemoptisis odinofagia y dermitis g1 el 230216 se realiza tc tap sin evidencia de enfermedad\"\n        ],\n        \"semantic_type\": \"\",\n        \"description\": \"\"\n      }\n    },\n    {\n      \"column\": \"labels\",\n      \"properties\": {\n        \"dtype\": \"category\",\n        \"num_unique_values\": 10,\n        \"samples\": [\n          \"[0 0 1 1]\",\n          \"[0 0 1 0]\",\n          \"[1 0 1 0]\"\n        ],\n        \"semantic_type\": \"\",\n        \"description\": \"\"\n      }\n    }\n  ]\n}"
            }
          },
          "metadata": {},
          "execution_count": 5
        }
      ]
    },
    {
      "cell_type": "markdown",
      "source": [
        "## Vectorizing the *Data*"
      ],
      "metadata": {
        "id": "UjHNbPl8-IGD"
      }
    },
    {
      "cell_type": "code",
      "source": [
        "# Vectorization (TF-IDF)\n",
        "vectorizer = TfidfVectorizer(max_features=5000)  # Using the top 5000 features\n",
        "X = vectorizer.fit_transform(df['text'])"
      ],
      "metadata": {
        "id": "jaLBM9hAbJON"
      },
      "execution_count": 3,
      "outputs": []
    },
    {
      "cell_type": "markdown",
      "source": [
        "## Fixing Label's format"
      ],
      "metadata": {
        "id": "HbjHDSB--P8h"
      }
    },
    {
      "cell_type": "code",
      "source": [
        "def fix_label_format(label):\n",
        "    # Ensuring the label is treated as a string and replace spaces with commas\n",
        "    label_str = str(label)\n",
        "    label_str = label_str.replace(' ', ',').replace('[,', '[').replace(',]', ']')\n",
        "    return label_str\n",
        "\n",
        "# Applying the function to the labels column\n",
        "df['labels'] = df['labels'].apply(fix_label_format)"
      ],
      "metadata": {
        "id": "qrSf3V7-bqcn"
      },
      "execution_count": 4,
      "outputs": []
    },
    {
      "cell_type": "markdown",
      "source": [
        "## Applying Label Encoding on Data"
      ],
      "metadata": {
        "id": "Go-_ZBTP-VhO"
      }
    },
    {
      "cell_type": "code",
      "source": [
        "# Initializing the label encoder\n",
        "encoder = LabelEncoder()\n",
        "\n",
        "# Fitting and transform the label encoder on the labels_str column\n",
        "df['labels'] = encoder.fit_transform(df['labels'])"
      ],
      "metadata": {
        "id": "m4RJ8lRr3OWG"
      },
      "execution_count": 6,
      "outputs": []
    },
    {
      "cell_type": "code",
      "source": [
        "df.head()"
      ],
      "metadata": {
        "colab": {
          "base_uri": "https://localhost:8080/",
          "height": 206
        },
        "id": "iqs4xE8K3TAC",
        "outputId": "e6474ee0-b606-4f2b-91e5-91652630e8fb"
      },
      "execution_count": 7,
      "outputs": [
        {
          "output_type": "execute_result",
          "data": {
            "text/plain": [
              "        id                                               text  labels\n",
              "0  train_0  presentamos el caso de un paciente de 44 aos c...       0\n",
              "1  train_1  se describe el caso clnico de un escolar del s...       2\n",
              "2  train_2  un hombre de 36 aos lleg al servicio de urgenc...       0\n",
              "3  train_3  mujer de 21 aos natural de la india residente ...       0\n",
              "4  train_4  presentamos el caso de una paciente mujer de 1...       0"
            ],
            "text/html": [
              "\n",
              "  <div id=\"df-12d8edb4-4714-41d9-9d25-b1fee8bafba5\" class=\"colab-df-container\">\n",
              "    <div>\n",
              "<style scoped>\n",
              "    .dataframe tbody tr th:only-of-type {\n",
              "        vertical-align: middle;\n",
              "    }\n",
              "\n",
              "    .dataframe tbody tr th {\n",
              "        vertical-align: top;\n",
              "    }\n",
              "\n",
              "    .dataframe thead th {\n",
              "        text-align: right;\n",
              "    }\n",
              "</style>\n",
              "<table border=\"1\" class=\"dataframe\">\n",
              "  <thead>\n",
              "    <tr style=\"text-align: right;\">\n",
              "      <th></th>\n",
              "      <th>id</th>\n",
              "      <th>text</th>\n",
              "      <th>labels</th>\n",
              "    </tr>\n",
              "  </thead>\n",
              "  <tbody>\n",
              "    <tr>\n",
              "      <th>0</th>\n",
              "      <td>train_0</td>\n",
              "      <td>presentamos el caso de un paciente de 44 aos c...</td>\n",
              "      <td>0</td>\n",
              "    </tr>\n",
              "    <tr>\n",
              "      <th>1</th>\n",
              "      <td>train_1</td>\n",
              "      <td>se describe el caso clnico de un escolar del s...</td>\n",
              "      <td>2</td>\n",
              "    </tr>\n",
              "    <tr>\n",
              "      <th>2</th>\n",
              "      <td>train_2</td>\n",
              "      <td>un hombre de 36 aos lleg al servicio de urgenc...</td>\n",
              "      <td>0</td>\n",
              "    </tr>\n",
              "    <tr>\n",
              "      <th>3</th>\n",
              "      <td>train_3</td>\n",
              "      <td>mujer de 21 aos natural de la india residente ...</td>\n",
              "      <td>0</td>\n",
              "    </tr>\n",
              "    <tr>\n",
              "      <th>4</th>\n",
              "      <td>train_4</td>\n",
              "      <td>presentamos el caso de una paciente mujer de 1...</td>\n",
              "      <td>0</td>\n",
              "    </tr>\n",
              "  </tbody>\n",
              "</table>\n",
              "</div>\n",
              "    <div class=\"colab-df-buttons\">\n",
              "\n",
              "  <div class=\"colab-df-container\">\n",
              "    <button class=\"colab-df-convert\" onclick=\"convertToInteractive('df-12d8edb4-4714-41d9-9d25-b1fee8bafba5')\"\n",
              "            title=\"Convert this dataframe to an interactive table.\"\n",
              "            style=\"display:none;\">\n",
              "\n",
              "  <svg xmlns=\"http://www.w3.org/2000/svg\" height=\"24px\" viewBox=\"0 -960 960 960\">\n",
              "    <path d=\"M120-120v-720h720v720H120Zm60-500h600v-160H180v160Zm220 220h160v-160H400v160Zm0 220h160v-160H400v160ZM180-400h160v-160H180v160Zm440 0h160v-160H620v160ZM180-180h160v-160H180v160Zm440 0h160v-160H620v160Z\"/>\n",
              "  </svg>\n",
              "    </button>\n",
              "\n",
              "  <style>\n",
              "    .colab-df-container {\n",
              "      display:flex;\n",
              "      gap: 12px;\n",
              "    }\n",
              "\n",
              "    .colab-df-convert {\n",
              "      background-color: #E8F0FE;\n",
              "      border: none;\n",
              "      border-radius: 50%;\n",
              "      cursor: pointer;\n",
              "      display: none;\n",
              "      fill: #1967D2;\n",
              "      height: 32px;\n",
              "      padding: 0 0 0 0;\n",
              "      width: 32px;\n",
              "    }\n",
              "\n",
              "    .colab-df-convert:hover {\n",
              "      background-color: #E2EBFA;\n",
              "      box-shadow: 0px 1px 2px rgba(60, 64, 67, 0.3), 0px 1px 3px 1px rgba(60, 64, 67, 0.15);\n",
              "      fill: #174EA6;\n",
              "    }\n",
              "\n",
              "    .colab-df-buttons div {\n",
              "      margin-bottom: 4px;\n",
              "    }\n",
              "\n",
              "    [theme=dark] .colab-df-convert {\n",
              "      background-color: #3B4455;\n",
              "      fill: #D2E3FC;\n",
              "    }\n",
              "\n",
              "    [theme=dark] .colab-df-convert:hover {\n",
              "      background-color: #434B5C;\n",
              "      box-shadow: 0px 1px 3px 1px rgba(0, 0, 0, 0.15);\n",
              "      filter: drop-shadow(0px 1px 2px rgba(0, 0, 0, 0.3));\n",
              "      fill: #FFFFFF;\n",
              "    }\n",
              "  </style>\n",
              "\n",
              "    <script>\n",
              "      const buttonEl =\n",
              "        document.querySelector('#df-12d8edb4-4714-41d9-9d25-b1fee8bafba5 button.colab-df-convert');\n",
              "      buttonEl.style.display =\n",
              "        google.colab.kernel.accessAllowed ? 'block' : 'none';\n",
              "\n",
              "      async function convertToInteractive(key) {\n",
              "        const element = document.querySelector('#df-12d8edb4-4714-41d9-9d25-b1fee8bafba5');\n",
              "        const dataTable =\n",
              "          await google.colab.kernel.invokeFunction('convertToInteractive',\n",
              "                                                    [key], {});\n",
              "        if (!dataTable) return;\n",
              "\n",
              "        const docLinkHtml = 'Like what you see? Visit the ' +\n",
              "          '<a target=\"_blank\" href=https://colab.research.google.com/notebooks/data_table.ipynb>data table notebook</a>'\n",
              "          + ' to learn more about interactive tables.';\n",
              "        element.innerHTML = '';\n",
              "        dataTable['output_type'] = 'display_data';\n",
              "        await google.colab.output.renderOutput(dataTable, element);\n",
              "        const docLink = document.createElement('div');\n",
              "        docLink.innerHTML = docLinkHtml;\n",
              "        element.appendChild(docLink);\n",
              "      }\n",
              "    </script>\n",
              "  </div>\n",
              "\n",
              "\n",
              "<div id=\"df-ebabbf14-63a4-40a7-b781-049d6e4c861b\">\n",
              "  <button class=\"colab-df-quickchart\" onclick=\"quickchart('df-ebabbf14-63a4-40a7-b781-049d6e4c861b')\"\n",
              "            title=\"Suggest charts\"\n",
              "            style=\"display:none;\">\n",
              "\n",
              "<svg xmlns=\"http://www.w3.org/2000/svg\" height=\"24px\"viewBox=\"0 0 24 24\"\n",
              "     width=\"24px\">\n",
              "    <g>\n",
              "        <path d=\"M19 3H5c-1.1 0-2 .9-2 2v14c0 1.1.9 2 2 2h14c1.1 0 2-.9 2-2V5c0-1.1-.9-2-2-2zM9 17H7v-7h2v7zm4 0h-2V7h2v10zm4 0h-2v-4h2v4z\"/>\n",
              "    </g>\n",
              "</svg>\n",
              "  </button>\n",
              "\n",
              "<style>\n",
              "  .colab-df-quickchart {\n",
              "      --bg-color: #E8F0FE;\n",
              "      --fill-color: #1967D2;\n",
              "      --hover-bg-color: #E2EBFA;\n",
              "      --hover-fill-color: #174EA6;\n",
              "      --disabled-fill-color: #AAA;\n",
              "      --disabled-bg-color: #DDD;\n",
              "  }\n",
              "\n",
              "  [theme=dark] .colab-df-quickchart {\n",
              "      --bg-color: #3B4455;\n",
              "      --fill-color: #D2E3FC;\n",
              "      --hover-bg-color: #434B5C;\n",
              "      --hover-fill-color: #FFFFFF;\n",
              "      --disabled-bg-color: #3B4455;\n",
              "      --disabled-fill-color: #666;\n",
              "  }\n",
              "\n",
              "  .colab-df-quickchart {\n",
              "    background-color: var(--bg-color);\n",
              "    border: none;\n",
              "    border-radius: 50%;\n",
              "    cursor: pointer;\n",
              "    display: none;\n",
              "    fill: var(--fill-color);\n",
              "    height: 32px;\n",
              "    padding: 0;\n",
              "    width: 32px;\n",
              "  }\n",
              "\n",
              "  .colab-df-quickchart:hover {\n",
              "    background-color: var(--hover-bg-color);\n",
              "    box-shadow: 0 1px 2px rgba(60, 64, 67, 0.3), 0 1px 3px 1px rgba(60, 64, 67, 0.15);\n",
              "    fill: var(--button-hover-fill-color);\n",
              "  }\n",
              "\n",
              "  .colab-df-quickchart-complete:disabled,\n",
              "  .colab-df-quickchart-complete:disabled:hover {\n",
              "    background-color: var(--disabled-bg-color);\n",
              "    fill: var(--disabled-fill-color);\n",
              "    box-shadow: none;\n",
              "  }\n",
              "\n",
              "  .colab-df-spinner {\n",
              "    border: 2px solid var(--fill-color);\n",
              "    border-color: transparent;\n",
              "    border-bottom-color: var(--fill-color);\n",
              "    animation:\n",
              "      spin 1s steps(1) infinite;\n",
              "  }\n",
              "\n",
              "  @keyframes spin {\n",
              "    0% {\n",
              "      border-color: transparent;\n",
              "      border-bottom-color: var(--fill-color);\n",
              "      border-left-color: var(--fill-color);\n",
              "    }\n",
              "    20% {\n",
              "      border-color: transparent;\n",
              "      border-left-color: var(--fill-color);\n",
              "      border-top-color: var(--fill-color);\n",
              "    }\n",
              "    30% {\n",
              "      border-color: transparent;\n",
              "      border-left-color: var(--fill-color);\n",
              "      border-top-color: var(--fill-color);\n",
              "      border-right-color: var(--fill-color);\n",
              "    }\n",
              "    40% {\n",
              "      border-color: transparent;\n",
              "      border-right-color: var(--fill-color);\n",
              "      border-top-color: var(--fill-color);\n",
              "    }\n",
              "    60% {\n",
              "      border-color: transparent;\n",
              "      border-right-color: var(--fill-color);\n",
              "    }\n",
              "    80% {\n",
              "      border-color: transparent;\n",
              "      border-right-color: var(--fill-color);\n",
              "      border-bottom-color: var(--fill-color);\n",
              "    }\n",
              "    90% {\n",
              "      border-color: transparent;\n",
              "      border-bottom-color: var(--fill-color);\n",
              "    }\n",
              "  }\n",
              "</style>\n",
              "\n",
              "  <script>\n",
              "    async function quickchart(key) {\n",
              "      const quickchartButtonEl =\n",
              "        document.querySelector('#' + key + ' button');\n",
              "      quickchartButtonEl.disabled = true;  // To prevent multiple clicks.\n",
              "      quickchartButtonEl.classList.add('colab-df-spinner');\n",
              "      try {\n",
              "        const charts = await google.colab.kernel.invokeFunction(\n",
              "            'suggestCharts', [key], {});\n",
              "      } catch (error) {\n",
              "        console.error('Error during call to suggestCharts:', error);\n",
              "      }\n",
              "      quickchartButtonEl.classList.remove('colab-df-spinner');\n",
              "      quickchartButtonEl.classList.add('colab-df-quickchart-complete');\n",
              "    }\n",
              "    (() => {\n",
              "      let quickchartButtonEl =\n",
              "        document.querySelector('#df-ebabbf14-63a4-40a7-b781-049d6e4c861b button');\n",
              "      quickchartButtonEl.style.display =\n",
              "        google.colab.kernel.accessAllowed ? 'block' : 'none';\n",
              "    })();\n",
              "  </script>\n",
              "</div>\n",
              "\n",
              "    </div>\n",
              "  </div>\n"
            ],
            "application/vnd.google.colaboratory.intrinsic+json": {
              "type": "dataframe",
              "variable_name": "df",
              "summary": "{\n  \"name\": \"df\",\n  \"rows\": 502,\n  \"fields\": [\n    {\n      \"column\": \"id\",\n      \"properties\": {\n        \"dtype\": \"string\",\n        \"num_unique_values\": 502,\n        \"samples\": [\n          \"train_268\",\n          \"train_73\",\n          \"train_289\"\n        ],\n        \"semantic_type\": \"\",\n        \"description\": \"\"\n      }\n    },\n    {\n      \"column\": \"text\",\n      \"properties\": {\n        \"dtype\": \"string\",\n        \"num_unique_values\": 502,\n        \"samples\": [\n          \"antecedentes personales\\r\\nvarn de 56 aos no alergias medicamentosas conocidas sin antecedentes cardiolgicos conocidos enfermedad de behet aneurismas pulmonares en el pulmn derecho intervencin quirrgica en 1995 hepatitis b crnica tratamiento en domicilio aas 300 mg peginterfern alfa 2a entecavir\\r\\n\\r\\nenfermedad actual\\r\\nacude por astenia generalizada desde hace unos 15 das con dolor torcico en relacin con los esfuerzos y que cede inmediatamente al detenerse no ortopnea no disnea paroxstica nocturna no presncope no fiebre o sensacin distrmica en los das previos\\r\\n\\r\\nexploracin fsica\\r\\npa 12379 mmhg fc 41 lpm ta 352c consciente orientado colaborador buen estado general eupneico al aire ambiente cabeza y cuelo no ivy a 45o auscultacin cardiaca rtmica sin soplos auscultacin pulmonar murmullo vesicular conservado sin ruidos sobreaadidos abdomen blando depresible no doloroso no organomegalias extremidades no edemas no datos de trombosis venosa profunda\\r\\n\\r\\npruebas complementarias\\r\\necg bloqueo av de alto grado con conduccin 21 qrs 130 ms eje del qrs a 60o bloqueo bifascicular brdhh  hai con arritmia sinusal ventriculofsica radiografa de trax sin datos de patologa pleuropulmonar aguda prdida de volumen pulmonar derecho y material de densidad metlica en porcin inferior del hemitrax ipsilateral en relacin con antecedente quirrgico silueta cardiopericrdica de tamao normal calcificaciones anulares que se proyectan sobre la silueta cardiaca ya presentes en estudio previo analtica leucocitos 2890ul n 502  l 349  hb 129 gdl plaquetas 93000ul inr 112 tppa ratio 112 glucosa 83 mgdl urea 65 mgdl creat 074 mgdl na 143 k 45 troponina i  0017 ngdl\\r\\necocardiograma ventrculo izquierdo no dilatado con fraccin de eyeccin preservada vlvula artica trivalva con buena apertura e insuficiencia ligera central aurcula izquierda no dilatada vlvula mitral con buena apertura insuficiencia mitral diastlica raz artica no dilatada cavidades derechas no dilatadas buena contractilidad de ventrculo derecho insuficiencia tricuspdea ligera no derrame pericrdico\\r\\ncoronariografa tronco coronario izquierdo sin lesiones descendente anterior presenta dilatacin aneurismtica calcificada de la pared a nivel proximal con enlentecimiento de flujo distal circunfleja presenta a nivel proximal dilatacin aneurismtica de gran tamao calcificada con trombosis parcial de la luz que condiciona enlentecimiento de flujo a nivel distal coronaria derecha sin lesiones\\r\\naortografa no presenta dilatacin aneurismtica tc coronario aneurismas coronarios saculares en circunfleja parcialmente trombosados y con cuello de 34 mm y en descendente anterior no trombosado y asentado sobre un segmento de arteria displsica de 15 mm de longitud\\r\\n\\r\\n\\r\\nevolucin\\r\\npaciente de 56 aos que ingresa en la unidad coronaria por un bloqueo av 21 con qrs ancho y sntomas compatibles con angina de esfuerzo de reciente comienzo se lleva a cabo coronariografa que evidencia arteria descendente anterior con dilatacin aneurismtica calcificada de la pared a nivel proximal con enlentecimiento de flujo distal circunfleja proximal con dilatacin aneurismtica de gran tamao calcificada con trombosis parcial de la luz que condiciona enlentecimiento de flujo a nivel distal se comenta el caso en sesin mdico quirrgica y se decide ciruga coronaria previo implante de marcapasos definitivo se comenta en sesin la conveniencia de suspender temporalmente el tratamiento con peginterfern alfa de cara a que mejoren en lo posible las cifras de leucocitos y el recuento plaquetario de cara a la intervencin a este respecto es valorado por hepatologa y recomiendan suspender el peginterfern de cara a la ciruga y reanudarlo lo antes posible tras la intervencin el da 21 de octubre de 2016 se realiza eef evidencindose que se trata de un bloqueo av infrahisiano y posteriormente se implanta un marcapasos definitivo bicameral sin complicaciones los controles posimplante de marcapasos muestran adecuado funcionamiento del dispositivo encontrndose estable cardiovascular y asintomtico sin datos de ic se autoriza el alta hospitalaria para ingreso la prxima semana de cara a intervencin quirrgica cardiaca\\r\\nel da 4 de noviembre de 2016 se realiza de forma programada ciruga de revascularizacin coronaria con doble arteria mamaria en y bajo cec se realizan bypass de arteria mamaria izquierda a descendente anterior y de arteria mamaria derecha a obtusa marginal asimismo se realiza ligadura distal y proximal de aneurisma en descendente anterior intervencin sin complicaciones posoperatorio en reanimacin sin incidencias\\r\\n\\r\\ndiagnstico\\r\\nenfermedad de behet bloqueo aurculoventricular 21 infrahisiano implante de marcapasos definitivo bicameral cardiopata isqumica por aneurismas coronarios revascularizacin coronaria con doble arteria mamaria a descendente anterior y a obtusa marginal ligadura de aneurisma de descendente anterior\",\n          \"anamnesis\\r\\nmujer de 26 aos embarazada de 11 semanas que consulta en el servicio de urgencias de dermatologa por presentar desde hace 4 das lesiones puntiformes dolorosas de aparicin sbita en la punta de los dedos\\r\\nla paciente refiere que las lesiones se iniciaron en los dedos de las manos extendindose posteriormente a los dedos de los pies asocia adems molestias articulares das antes de la aparicin de las lesiones present cuadro febril que remiti en 24 horas con paracetamol tras el desarrollo del cuadro cutneo no ha vuelto a presentar fiebre no presenta ninguna otra sintomatologa asociada como antecedentes personales de inters destacaba nicamente urticaria a frigore no tiene antecedentes de fotosensibilidad\\r\\n\\r\\nexploracin fsica\\r\\nppulas puntiformes eritematosas algunas con zonas purpricas no palpables que no desaparecen a la digitopresin bien delimitadas no infiltradas localizadas en pulpejos distales de 20 dedos uas sin alteraciones manos y pies normocoloreados y normoperfundidos\\r\\n\\r\\nexploraciones complementarias\\r\\nen un primer momento el caso impresionaba de vasculitis por lo que se extrajo analtica en sangre perifrica sin alteraciones excepto elevacin de velocidad de sedimentacin globular 22 mm valores de referencia 715 mm los marcadores de inmunidad ana y crioaglutininas resultaron negativos la serologa de vhb indicaba nicamente vacunacin as mismo se realiz biopsia cutnea con un punch de 3 mm en la que se observaron como nicos hallazgos hiperqueratosis paraqueratosis e infiltrado inflamatorio crnico perivascular en dermis superficial\\r\\nen base a estos resultados se descart el diagnstico de vasculitis por lo que ante la sospecha diagnstica de exantema en guante y calcetn se realiz serologa para virus de ebstein barr parvovirus b19 y enterovirus humano la serolog para parvovirus b19 fue igm positiva en dos ocasiones separadas una semana entre s\\r\\n\\r\\ndiagnstico\\r\\nexantema en guante y calcetn por parvovirus b19\\r\\n\\r\\ntratamiento\\r\\nsintomtico paracetamol 1 g cada 8 horas desde el equipo de ginecologa se paut tratamiento con aas 100 mg cada 24 horas\\r\\n\\r\\nevolucin\\r\\nen un primer momento las lesiones eran compatibles con el desarrollo de una vasculitis los marcadores analticos negativos para autoinmunidad y crioaglutininas orientaron el diagnstico hacia un exantema infeccioso erupcin papulopurprica en guante y calcetn\\r\\nante la sospecha de un cuadro infeccioso de estas caractersticas se solicitaron serologas para veb enterovirus y parvovirus b19 siendo la igm positiva para este ltimo en dos ocasiones\\r\\nal tratarse de una paciente embarazada nos pusimos en contacto con el servicio de ginecologa inicindose el seguimiento gineobsttrico para pacientes de alto riesgo\\r\\nen las sucesivas revisiones ginecolgicas la paciente no haba desarrollado anemia ni otras manifestaciones clnicas de la infeccin aguda por parvovirus tampoco se objetivaron signos de anemia fetal ni las complicaciones derivadas de sta\",\n          \"antecedentes personales varn de 36 aos  buena salud habitual no alergias medicamentosas no tratamiento habitual fumador de 10 paquetesao bebedor leve casado y comercial de material electrnico\\r\\n\\r\\nanamnesis en noviembre de 2014 comienza con fiebre de 38o no tos no expectoracin por lo que acude al s de urgencias se le practica rx de trax que pone de manifiesto masa en lbulo superior derecho lsd de pulmn\\r\\n\\r\\nexploracin fsica\\r\\necog 0 anodina\\r\\n\\r\\npruebas complementarias\\r\\nanaltica general 151216 cea 231 ca 199 199 hiv negativo tc tomografia computarizada traxabdomenplvis 151214 masa en lsd de 49 mm adenopatas mediastnicas paratraqueales derechas hiliar ipsilateral y subcarinal 10mm quistes simples hepticos segmentos v vi vii broncoscopia 161214 normal broncoaspirado y cepillado negativo bag de masa de lsd guiada por tc 221214 adenocarcinoma de pulmn egfr nativo alk traslocado por ihq y fish pet tc tomografia por emisin de positrones 291214 masa en lsd de 34x46x33 cm con suv 1632 adenopata mediastnica derecha alta 8 mm suv 515 adenopata prevascular 7 mm suv 305\\r\\nadenopata paratraqueal derecha alta 8 mm suv 486 adenopata paratraqueal derecha baja 10 mm suv 801 adenopata hilar derecha suv 534 en segmentos ivv hepticos imgenes hiperactivas con suv 306 y 309\\r\\necografia abdominal 020115 quistes simples hepticos en segmentos 5 y 6\\r\\nresonancia magnetica heptica 070115 quistes hepticos segmentos v vi vii viii\\r\\necobroncoscopia 120115 adenopata menor de 1 cm en niveles 2r con puncin negativa adenopata 4r positiva para adenocarcinoma\\r\\ntc craneal 290115 normal\\r\\n\\r\\ndiagnstico\\r\\nel 260115 es remitido a nuestro serviciocon diagnstico de adenocarcinoma de pulmn lsd t2an2hiliares y mediastnicas ipsilaterales m0 estadio iiia egfr nativo alk traslocado\\r\\n\\r\\ntratamiento\\r\\niniciamos tratamiento con crizotinib 250 mg cada 12 horas de forma contnua\\r\\n\\r\\nevolucin\\r\\ntras 1 mes de tratamiento se realiza tc de reevaluacin 040315 reduccin de la masa de lsd en rango de respuesta parcial respuesta completa de adenopatas paratraqueales derechas y respuesta parcial de adenopata hiliar derecha y subcarinal presenta como efectos secundarios alteraciones visuales en forma de aura de predominio vespertino tras 25 meses de tto con crizotinib se realiza pet tc 130415 se objetiva respuesta completa metablica de adenopatas mediastnicas e hiliares con respuesta parcial del tumor ante esta respuesta se remite al paciente a s de ciruga torcica de salamanca para valoracin quirrgica previa realizacin de mediastinoscopia el 280415 se realiza mediastinoscopia de niveles 4l 4r y 7 negativa el 190515 se realiza lobectomia de lsd y linfadenectomia de 4r y 7 por videotoracoscopia ypt1a 15 mm pn0m0 se administra radioterapia complemetaria inicio 250815 fin 300915 dt 54 gy en 27 fracciones efectos secundarios hemoptisis odinofagia y dermitis g1 el 230216 se realiza tc tap sin evidencia de enfermedad\"\n        ],\n        \"semantic_type\": \"\",\n        \"description\": \"\"\n      }\n    },\n    {\n      \"column\": \"labels\",\n      \"properties\": {\n        \"dtype\": \"number\",\n        \"std\": 1,\n        \"min\": 0,\n        \"max\": 9,\n        \"num_unique_values\": 10,\n        \"samples\": [\n          3,\n          2,\n          7\n        ],\n        \"semantic_type\": \"\",\n        \"description\": \"\"\n      }\n    }\n  ]\n}"
            }
          },
          "metadata": {},
          "execution_count": 7
        }
      ]
    },
    {
      "cell_type": "markdown",
      "source": [
        "## Splitting the Data"
      ],
      "metadata": {
        "id": "aT4BHcxy-lLl"
      }
    },
    {
      "cell_type": "code",
      "source": [
        "# Initializing StratifiedKFold\n",
        "kf = StratifiedKFold(n_splits=5, shuffle=True, random_state=42)\n",
        "\n",
        "# Iterating over the splits\n",
        "for train_index, test_index in kf.split(X, y):\n",
        "    # Using the indices directly for slicing sparse matrices\n",
        "    X_train, X_test = X[train_index], X[test_index]\n",
        "    y_train, y_test = y[train_index], y[test_index]"
      ],
      "metadata": {
        "colab": {
          "base_uri": "https://localhost:8080/"
        },
        "id": "-EOOWYDl49pc",
        "outputId": "e651c61c-de88-4f67-935c-221e52380bd8"
      },
      "execution_count": 18,
      "outputs": [
        {
          "output_type": "stream",
          "name": "stderr",
          "text": [
            "/usr/local/lib/python3.11/dist-packages/sklearn/model_selection/_split.py:805: UserWarning: The least populated class in y has only 2 members, which is less than n_splits=5.\n",
            "  warnings.warn(\n"
          ]
        }
      ]
    },
    {
      "cell_type": "markdown",
      "source": [
        "## Applying Model and Making Predictions"
      ],
      "metadata": {
        "id": "iYTP0azr_Jbz"
      }
    },
    {
      "cell_type": "code",
      "source": [
        "rf_model = RandomForestClassifier()\n",
        "\n",
        "# Training the model\n",
        "rf_model.fit(X_train, y_train)\n",
        "\n",
        "# Making predictions\n",
        "y_pred_rf = rf_model.predict(X_test)\n",
        "\n",
        "# Evaluating the model\n",
        "accuracy_rf = accuracy_score(y_test, y_pred_rf)\n",
        "print(f'MultinomialNB Accuracy: {accuracy_rf}')"
      ],
      "metadata": {
        "colab": {
          "base_uri": "https://localhost:8080/"
        },
        "id": "1vi4JcMn578g",
        "outputId": "f8b20ef9-6898-45e1-d947-0880692381a8"
      },
      "execution_count": 31,
      "outputs": [
        {
          "output_type": "stream",
          "name": "stdout",
          "text": [
            "MultinomialNB Accuracy: 0.77\n"
          ]
        }
      ]
    },
    {
      "cell_type": "markdown",
      "source": [
        "## Evaluation Metrics"
      ],
      "metadata": {
        "id": "940x5-Eb_Qtr"
      }
    },
    {
      "cell_type": "code",
      "source": [
        "# 7. Evaluation Metrics\n",
        "print(\"Classification Report:\\n\", classification_report(y_test, y_pred_rf))\n",
        "print(\"Hamming Loss:\", hamming_loss(y_test, y_pred))"
      ],
      "metadata": {
        "colab": {
          "base_uri": "https://localhost:8080/"
        },
        "id": "-rR8Hr1BSZQB",
        "outputId": "1cc5d77a-768d-4c4d-816c-bc1ef2428dc9"
      },
      "execution_count": 32,
      "outputs": [
        {
          "output_type": "stream",
          "name": "stdout",
          "text": [
            "Classification Report:\n",
            "               precision    recall  f1-score   support\n",
            "\n",
            "           0       0.77      1.00      0.87        75\n",
            "           1       0.00      0.00      0.00         5\n",
            "           2       1.00      0.20      0.33        10\n",
            "           4       0.00      0.00      0.00         4\n",
            "           5       0.00      0.00      0.00         1\n",
            "           6       0.00      0.00      0.00         3\n",
            "           7       0.00      0.00      0.00         1\n",
            "           9       0.00      0.00      0.00         1\n",
            "\n",
            "    accuracy                           0.77       100\n",
            "   macro avg       0.22      0.15      0.15       100\n",
            "weighted avg       0.67      0.77      0.68       100\n",
            "\n",
            "Hamming Loss: 0.25\n"
          ]
        },
        {
          "output_type": "stream",
          "name": "stderr",
          "text": [
            "/usr/local/lib/python3.11/dist-packages/sklearn/metrics/_classification.py:1565: UndefinedMetricWarning: Precision is ill-defined and being set to 0.0 in labels with no predicted samples. Use `zero_division` parameter to control this behavior.\n",
            "  _warn_prf(average, modifier, f\"{metric.capitalize()} is\", len(result))\n",
            "/usr/local/lib/python3.11/dist-packages/sklearn/metrics/_classification.py:1565: UndefinedMetricWarning: Precision is ill-defined and being set to 0.0 in labels with no predicted samples. Use `zero_division` parameter to control this behavior.\n",
            "  _warn_prf(average, modifier, f\"{metric.capitalize()} is\", len(result))\n",
            "/usr/local/lib/python3.11/dist-packages/sklearn/metrics/_classification.py:1565: UndefinedMetricWarning: Precision is ill-defined and being set to 0.0 in labels with no predicted samples. Use `zero_division` parameter to control this behavior.\n",
            "  _warn_prf(average, modifier, f\"{metric.capitalize()} is\", len(result))\n"
          ]
        }
      ]
    },
    {
      "cell_type": "markdown",
      "source": [
        "## Making Predictions on Test data"
      ],
      "metadata": {
        "id": "jePBfedV_WK9"
      }
    },
    {
      "cell_type": "code",
      "source": [
        "# Loading the test dataset\n",
        "test_df = pd.read_csv('/content/TEST DATASET (1).csv')\n",
        "\n",
        "# Applying the text cleaning function to the test dataset\n",
        "test_df['text'] = test_df['text'].apply(clean_text)\n",
        "\n",
        "# Vectorizing the test data using the same TF-IDF vectorizer\n",
        "X_test_data = vectorizer.transform(test_df['text'])\n",
        "\n",
        "# Making predictions on the test data\n",
        "y_pred_test = rf_model.predict(X_test_data)\n",
        "\n",
        "# If the model outputs labels encoded as integers, convert them back to the original labels\n",
        "y_pred_test_labels = encoder.inverse_transform(y_pred_test)\n",
        "\n",
        "# Optionally, if you want to see the predicted labels for each instance\n",
        "test_df['predicted_labels'] = y_pred_test_labels\n",
        "\n",
        "# Displaying the predictions\n",
        "print(test_df[['text', 'predicted_labels']].head())"
      ],
      "metadata": {
        "colab": {
          "base_uri": "https://localhost:8080/"
        },
        "id": "CDpwSm7w_VlD",
        "outputId": "72fd24b5-dab3-44c6-8bca-123f1c6db148"
      },
      "execution_count": 34,
      "outputs": [
        {
          "output_type": "stream",
          "name": "stdout",
          "text": [
            "                                                text predicted_labels\n",
            "0  mujer de trece aos que presenta un cuadro de f...        [0 0 0 0]\n",
            "1  motivo de consulta\\r\\ngonalgia bilateral y rig...        [0 0 0 0]\n",
            "2  anamnesis\\r\\nvarn de 54 aos exfumador hiperten...        [0 0 0 0]\n",
            "3  varn de 70 aos acude con fiebre de origen desc...        [0 0 0 0]\n",
            "4  varn de 86 aos que acude a urgencias por deter...        [0 0 0 0]\n"
          ]
        }
      ]
    },
    {
      "cell_type": "code",
      "source": [
        "# Adding the predicted labels to the test dataframe in a new column 'pred'\n",
        "test_df['pred'] = y_pred_test_labels\n",
        "\n",
        "# Saving the updated dataframe to a new CSV file\n",
        "test_df.to_csv('TEST_DATASET_with_predictions.csv', index=False)\n",
        "\n",
        "print(\"Predictions saved successfully to TEST_DATASET_with_predictions.csv\")"
      ],
      "metadata": {
        "colab": {
          "base_uri": "https://localhost:8080/"
        },
        "id": "HNJPtB4q4AIP",
        "outputId": "3492385a-7caa-4f15-e1cc-3aafd0e866b2"
      },
      "execution_count": 36,
      "outputs": [
        {
          "output_type": "stream",
          "name": "stdout",
          "text": [
            "Predictions saved successfully to TEST_DATASET_with_predictions.csv\n"
          ]
        }
      ]
    }
  ]
}